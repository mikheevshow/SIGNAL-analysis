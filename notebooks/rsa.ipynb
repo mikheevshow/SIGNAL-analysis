{
 "cells": [
  {
   "metadata": {
    "ExecuteTime": {
     "end_time": "2025-09-20T13:14:54.902546Z",
     "start_time": "2025-09-20T13:14:54.899376Z"
    }
   },
   "cell_type": "code",
   "source": [
    "import os\n",
    "import sys\n",
    "\n",
    "sys.path.append(os.path.join(os.path.dirname(os.getcwd()), 'src'))"
   ],
   "id": "65aa4b3f72aa7d7b",
   "outputs": [],
   "execution_count": 1
  },
  {
   "metadata": {
    "ExecuteTime": {
     "end_time": "2025-09-20T13:16:14.759729Z",
     "start_time": "2025-09-20T13:16:14.515418Z"
    }
   },
   "cell_type": "code",
   "source": "import matplotlib.pyplot as plt",
   "id": "43f840e1d857935a",
   "outputs": [],
   "execution_count": 2
  },
  {
   "metadata": {},
   "cell_type": "markdown",
   "source": "### Representation Similarity Analysis",
   "id": "9e42f37ab62828c3"
  },
  {
   "metadata": {},
   "cell_type": "markdown",
   "source": [
    "Задача вычислить пространство представлений вычислением расстояний между стимулами в пространстве признаков\n",
    "\n",
    "- признаковое простраство для модели - скрытые представления стимулов на каждом из слоев\n",
    "- признаковое пространство для ЭЭГ - временные ряды значений потенциалов с датчиков"
   ],
   "id": "7662ae30fc8df4c1"
  },
  {
   "metadata": {},
   "cell_type": "markdown",
   "source": "### Dissimilarity matrices for EEG",
   "id": "ed991bea16bd7371"
  },
  {
   "cell_type": "code",
   "execution_count": null,
   "id": "initial_id",
   "metadata": {
    "collapsed": true
   },
   "outputs": [],
   "source": [
    ""
   ]
  }
 ],
 "metadata": {
  "kernelspec": {
   "display_name": "Python 3",
   "language": "python",
   "name": "python3"
  },
  "language_info": {
   "codemirror_mode": {
    "name": "ipython",
    "version": 2
   },
   "file_extension": ".py",
   "mimetype": "text/x-python",
   "name": "python",
   "nbconvert_exporter": "python",
   "pygments_lexer": "ipython2",
   "version": "2.7.6"
  }
 },
 "nbformat": 4,
 "nbformat_minor": 5
}
