{
 "cells": [
  {
   "metadata": {},
   "cell_type": "markdown",
   "source": [
    "В ноутбуке собирается набор данных для обучения классификаторов над скрытыми состояниями моделей для дальнейшего анализа. Признаками являются векторы скрытых состояний, таргетами типы ошибок.\n",
    "\n",
    "- Для сбора данных предварительно сгенерируйте векторы скрытых состояний"
   ],
   "id": "6678544db23f91fe"
  },
  {
   "metadata": {
    "ExecuteTime": {
     "end_time": "2025-09-23T16:04:26.699057Z",
     "start_time": "2025-09-23T16:04:26.696357Z"
    }
   },
   "cell_type": "code",
   "source": [
    "import os\n",
    "import sys\n",
    "\n",
    "sys.path.append(os.path.join(os.path.dirname(os.getcwd()), 'src'))"
   ],
   "id": "1b6455b8a94efcf5",
   "outputs": [],
   "execution_count": 2
  },
  {
   "metadata": {
    "collapsed": true,
    "ExecuteTime": {
     "end_time": "2025-09-23T16:04:34.069141Z",
     "start_time": "2025-09-23T16:04:32.918164Z"
    }
   },
   "cell_type": "code",
   "source": [
    "import pandas as pd\n",
    "\n",
    "from datasets import load_dataset"
   ],
   "id": "1336e7dcfc3921d0",
   "outputs": [],
   "execution_count": 3
  },
  {
   "metadata": {
    "ExecuteTime": {
     "end_time": "2025-09-23T16:04:36.952481Z",
     "start_time": "2025-09-23T16:04:34.073089Z"
    }
   },
   "cell_type": "code",
   "source": [
    "ds = load_dataset(\"ContributorsSIGNAL/SIGNAL\")\n",
    "\n",
    "df = ds[\"train\"].to_pandas()"
   ],
   "id": "83a8364f61996a41",
   "outputs": [],
   "execution_count": 4
  },
  {
   "metadata": {
    "ExecuteTime": {
     "end_time": "2025-09-23T16:04:36.982997Z",
     "start_time": "2025-09-23T16:04:36.973954Z"
    }
   },
   "cell_type": "code",
   "source": "df.head()",
   "id": "ad4ec0fea5dc5b07",
   "outputs": [
    {
     "data": {
      "text/plain": [
       "   sentence_id                                 sentence  \\\n",
       "0          0.0  Автобусы проходят массовую дезинфекцией   \n",
       "1          0.0   Автобусы проходят массовую дезинфекцию   \n",
       "2          0.0      Автобусы проходят массовую фортуной   \n",
       "3          0.0       Автобусы проходят массовую фортуну   \n",
       "4          2.0                Авторы получали подарками   \n",
       "\n",
       "                                congruent                      structure  \\\n",
       "0  Автобусы проходят массовую дезинфекцию  Subject - Verb - Adj - Object   \n",
       "1  Автобусы проходят массовую дезинфекцию  Subject - Verb - Adj - Object   \n",
       "2  Автобусы проходят массовую дезинфекцию  Subject - Verb - Adj - Object   \n",
       "3  Автобусы проходят массовую дезинфекцию  Subject - Verb - Adj - Object   \n",
       "4                 Авторы получали подарки        Subject - Verb - Object   \n",
       "\n",
       "   length             target  position       most_popular   percent  \\\n",
       "0     4.0            grammar       3.0            grammar  1.000000   \n",
       "1     4.0             normal       3.0             normal  0.833333   \n",
       "2     4.0  semantics_grammar       3.0  semantics_grammar  1.000000   \n",
       "3     4.0          semantics       3.0          semantics  1.000000   \n",
       "4     3.0            grammar       2.0            grammar  1.000000   \n",
       "\n",
       "   semantics_grammar  ...  object_gender  object_ipm  gen_lemma  gen_length  \\\n",
       "0                NaN  ...           femn        1.63       None         NaN   \n",
       "1                NaN  ...           femn        1.63       None         NaN   \n",
       "2                1.0  ...           femn        1.63       None         NaN   \n",
       "3                NaN  ...           femn        1.63       None         NaN   \n",
       "4                NaN  ...           masc       64.02       None         NaN   \n",
       "\n",
       "  gen_gender gen_ipm adj_lemma adj_length adj_gender    adj_ipm  \n",
       "0       None    0.02  массовый        4.0       masc  50.834561  \n",
       "1       None    0.02  массовый        4.0       masc  50.834561  \n",
       "2       None    0.02  массовый        4.0       masc  50.834561  \n",
       "3       None    0.02  массовый        4.0       masc  50.834561  \n",
       "4       None    0.02      None        NaN       None   0.020000  \n",
       "\n",
       "[5 rows x 38 columns]"
      ],
      "text/html": [
       "<div>\n",
       "<style scoped>\n",
       "    .dataframe tbody tr th:only-of-type {\n",
       "        vertical-align: middle;\n",
       "    }\n",
       "\n",
       "    .dataframe tbody tr th {\n",
       "        vertical-align: top;\n",
       "    }\n",
       "\n",
       "    .dataframe thead th {\n",
       "        text-align: right;\n",
       "    }\n",
       "</style>\n",
       "<table border=\"1\" class=\"dataframe\">\n",
       "  <thead>\n",
       "    <tr style=\"text-align: right;\">\n",
       "      <th></th>\n",
       "      <th>sentence_id</th>\n",
       "      <th>sentence</th>\n",
       "      <th>congruent</th>\n",
       "      <th>structure</th>\n",
       "      <th>length</th>\n",
       "      <th>target</th>\n",
       "      <th>position</th>\n",
       "      <th>most_popular</th>\n",
       "      <th>percent</th>\n",
       "      <th>semantics_grammar</th>\n",
       "      <th>...</th>\n",
       "      <th>object_gender</th>\n",
       "      <th>object_ipm</th>\n",
       "      <th>gen_lemma</th>\n",
       "      <th>gen_length</th>\n",
       "      <th>gen_gender</th>\n",
       "      <th>gen_ipm</th>\n",
       "      <th>adj_lemma</th>\n",
       "      <th>adj_length</th>\n",
       "      <th>adj_gender</th>\n",
       "      <th>adj_ipm</th>\n",
       "    </tr>\n",
       "  </thead>\n",
       "  <tbody>\n",
       "    <tr>\n",
       "      <th>0</th>\n",
       "      <td>0.0</td>\n",
       "      <td>Автобусы проходят массовую дезинфекцией</td>\n",
       "      <td>Автобусы проходят массовую дезинфекцию</td>\n",
       "      <td>Subject - Verb - Adj - Object</td>\n",
       "      <td>4.0</td>\n",
       "      <td>grammar</td>\n",
       "      <td>3.0</td>\n",
       "      <td>grammar</td>\n",
       "      <td>1.000000</td>\n",
       "      <td>NaN</td>\n",
       "      <td>...</td>\n",
       "      <td>femn</td>\n",
       "      <td>1.63</td>\n",
       "      <td>None</td>\n",
       "      <td>NaN</td>\n",
       "      <td>None</td>\n",
       "      <td>0.02</td>\n",
       "      <td>массовый</td>\n",
       "      <td>4.0</td>\n",
       "      <td>masc</td>\n",
       "      <td>50.834561</td>\n",
       "    </tr>\n",
       "    <tr>\n",
       "      <th>1</th>\n",
       "      <td>0.0</td>\n",
       "      <td>Автобусы проходят массовую дезинфекцию</td>\n",
       "      <td>Автобусы проходят массовую дезинфекцию</td>\n",
       "      <td>Subject - Verb - Adj - Object</td>\n",
       "      <td>4.0</td>\n",
       "      <td>normal</td>\n",
       "      <td>3.0</td>\n",
       "      <td>normal</td>\n",
       "      <td>0.833333</td>\n",
       "      <td>NaN</td>\n",
       "      <td>...</td>\n",
       "      <td>femn</td>\n",
       "      <td>1.63</td>\n",
       "      <td>None</td>\n",
       "      <td>NaN</td>\n",
       "      <td>None</td>\n",
       "      <td>0.02</td>\n",
       "      <td>массовый</td>\n",
       "      <td>4.0</td>\n",
       "      <td>masc</td>\n",
       "      <td>50.834561</td>\n",
       "    </tr>\n",
       "    <tr>\n",
       "      <th>2</th>\n",
       "      <td>0.0</td>\n",
       "      <td>Автобусы проходят массовую фортуной</td>\n",
       "      <td>Автобусы проходят массовую дезинфекцию</td>\n",
       "      <td>Subject - Verb - Adj - Object</td>\n",
       "      <td>4.0</td>\n",
       "      <td>semantics_grammar</td>\n",
       "      <td>3.0</td>\n",
       "      <td>semantics_grammar</td>\n",
       "      <td>1.000000</td>\n",
       "      <td>1.0</td>\n",
       "      <td>...</td>\n",
       "      <td>femn</td>\n",
       "      <td>1.63</td>\n",
       "      <td>None</td>\n",
       "      <td>NaN</td>\n",
       "      <td>None</td>\n",
       "      <td>0.02</td>\n",
       "      <td>массовый</td>\n",
       "      <td>4.0</td>\n",
       "      <td>masc</td>\n",
       "      <td>50.834561</td>\n",
       "    </tr>\n",
       "    <tr>\n",
       "      <th>3</th>\n",
       "      <td>0.0</td>\n",
       "      <td>Автобусы проходят массовую фортуну</td>\n",
       "      <td>Автобусы проходят массовую дезинфекцию</td>\n",
       "      <td>Subject - Verb - Adj - Object</td>\n",
       "      <td>4.0</td>\n",
       "      <td>semantics</td>\n",
       "      <td>3.0</td>\n",
       "      <td>semantics</td>\n",
       "      <td>1.000000</td>\n",
       "      <td>NaN</td>\n",
       "      <td>...</td>\n",
       "      <td>femn</td>\n",
       "      <td>1.63</td>\n",
       "      <td>None</td>\n",
       "      <td>NaN</td>\n",
       "      <td>None</td>\n",
       "      <td>0.02</td>\n",
       "      <td>массовый</td>\n",
       "      <td>4.0</td>\n",
       "      <td>masc</td>\n",
       "      <td>50.834561</td>\n",
       "    </tr>\n",
       "    <tr>\n",
       "      <th>4</th>\n",
       "      <td>2.0</td>\n",
       "      <td>Авторы получали подарками</td>\n",
       "      <td>Авторы получали подарки</td>\n",
       "      <td>Subject - Verb - Object</td>\n",
       "      <td>3.0</td>\n",
       "      <td>grammar</td>\n",
       "      <td>2.0</td>\n",
       "      <td>grammar</td>\n",
       "      <td>1.000000</td>\n",
       "      <td>NaN</td>\n",
       "      <td>...</td>\n",
       "      <td>masc</td>\n",
       "      <td>64.02</td>\n",
       "      <td>None</td>\n",
       "      <td>NaN</td>\n",
       "      <td>None</td>\n",
       "      <td>0.02</td>\n",
       "      <td>None</td>\n",
       "      <td>NaN</td>\n",
       "      <td>None</td>\n",
       "      <td>0.020000</td>\n",
       "    </tr>\n",
       "  </tbody>\n",
       "</table>\n",
       "<p>5 rows × 38 columns</p>\n",
       "</div>"
      ]
     },
     "execution_count": 5,
     "metadata": {},
     "output_type": "execute_result"
    }
   ],
   "execution_count": 5
  },
  {
   "metadata": {
    "ExecuteTime": {
     "end_time": "2025-09-23T16:29:36.464634Z",
     "start_time": "2025-09-23T16:29:36.462560Z"
    }
   },
   "cell_type": "code",
   "source": "targets = df.target",
   "id": "ef19dc7a981dca32",
   "outputs": [],
   "execution_count": 19
  },
  {
   "metadata": {
    "ExecuteTime": {
     "end_time": "2025-09-23T16:04:37.077995Z",
     "start_time": "2025-09-23T16:04:37.075592Z"
    }
   },
   "cell_type": "code",
   "source": "target.head()",
   "id": "3e088b96dce6a20e",
   "outputs": [
    {
     "data": {
      "text/plain": [
       "0              grammar\n",
       "1               normal\n",
       "2    semantics_grammar\n",
       "3            semantics\n",
       "4              grammar\n",
       "Name: target, dtype: object"
      ]
     },
     "execution_count": 7,
     "metadata": {},
     "output_type": "execute_result"
    }
   ],
   "execution_count": 7
  },
  {
   "metadata": {
    "ExecuteTime": {
     "end_time": "2025-09-23T16:04:37.113735Z",
     "start_time": "2025-09-23T16:04:37.110934Z"
    }
   },
   "cell_type": "code",
   "source": "target",
   "id": "8e8a27ef5b812dfc",
   "outputs": [
    {
     "data": {
      "text/plain": [
       "0                grammar\n",
       "1                 normal\n",
       "2      semantics_grammar\n",
       "3              semantics\n",
       "4                grammar\n",
       "             ...        \n",
       "595               normal\n",
       "596            semantics\n",
       "597    semantics_grammar\n",
       "598               normal\n",
       "599              grammar\n",
       "Name: target, Length: 600, dtype: object"
      ]
     },
     "execution_count": 8,
     "metadata": {},
     "output_type": "execute_result"
    }
   ],
   "execution_count": 8
  },
  {
   "metadata": {
    "ExecuteTime": {
     "end_time": "2025-09-23T16:05:13.008255Z",
     "start_time": "2025-09-23T16:05:12.849433Z"
    }
   },
   "cell_type": "code",
   "source": "from src.decoder_utils import calculate_aggregated_hidden_states",
   "id": "cf44bc17c9926c43",
   "outputs": [],
   "execution_count": 9
  },
  {
   "metadata": {
    "ExecuteTime": {
     "end_time": "2025-09-23T16:31:30.890235Z",
     "start_time": "2025-09-23T16:31:30.663259Z"
    }
   },
   "cell_type": "code",
   "source": [
    "import os\n",
    "import numpy as np\n",
    "\n",
    "hidden_states_dir = \"../persisted_hidden_states\"\n",
    "\n",
    "hidden_states_list: list[tuple[int, np.ndarray]] = []\n",
    "\n",
    "for base_dir, folders, files in os.walk(hidden_states_dir):\n",
    "    for file, target in zip(files, targets):\n",
    "        file_index = int(file.split(\".\")[0])\n",
    "        file_path = base_dir + \"/\" + file\n",
    "        hidden_states = np.load(file_path)\n",
    "        hidden_states_list.append((file_index, hidden_states))"
   ],
   "id": "edff20e0d0f08542",
   "outputs": [],
   "execution_count": 22
  },
  {
   "metadata": {
    "ExecuteTime": {
     "end_time": "2025-09-23T16:31:45.806437Z",
     "start_time": "2025-09-23T16:31:45.803360Z"
    }
   },
   "cell_type": "code",
   "source": "hidden_states_list.sort(key=lambda x: x[0])",
   "id": "42597af78c94a98e",
   "outputs": [],
   "execution_count": 24
  },
  {
   "metadata": {
    "ExecuteTime": {
     "end_time": "2025-09-23T16:32:32.204145Z",
     "start_time": "2025-09-23T16:32:32.200485Z"
    }
   },
   "cell_type": "code",
   "source": "hidden_states = list(map(lambda x: x[1], hidden_states_list))",
   "id": "989b8ed3a40022cc",
   "outputs": [],
   "execution_count": 26
  },
  {
   "metadata": {
    "ExecuteTime": {
     "end_time": "2025-09-23T16:44:37.488792Z",
     "start_time": "2025-09-23T16:44:37.481401Z"
    }
   },
   "cell_type": "code",
   "source": [
    "d = {\n",
    "    \"hidden\": [],\n",
    "    \"layer\": [],\n",
    "    \"model\": [],\n",
    "    \"target\": [],\n",
    "}\n",
    "\n",
    "for hidden_state, target in zip(hidden_states, targets):\n",
    "    for i, layer in enumerate(hidden_state):\n",
    "        d[\"hidden\"].append(layer)\n",
    "        d[\"layer\"].append(i)\n",
    "        d[\"model\"].append(\"gpt2\")\n",
    "        d[\"target\"].append(target)\n"
   ],
   "id": "b91822cf707310d9",
   "outputs": [],
   "execution_count": 31
  },
  {
   "metadata": {
    "ExecuteTime": {
     "end_time": "2025-09-23T16:44:38.104447Z",
     "start_time": "2025-09-23T16:44:38.101180Z"
    }
   },
   "cell_type": "code",
   "source": "import pandas as pd",
   "id": "871631eb43f6fec0",
   "outputs": [],
   "execution_count": 32
  },
  {
   "metadata": {
    "ExecuteTime": {
     "end_time": "2025-09-23T16:47:02.941445Z",
     "start_time": "2025-09-23T16:47:02.929647Z"
    }
   },
   "cell_type": "code",
   "source": "df = pd.DataFrame(d)",
   "id": "a8610d7b437dd66f",
   "outputs": [],
   "execution_count": 34
  },
  {
   "metadata": {
    "ExecuteTime": {
     "end_time": "2025-09-23T16:47:05.318992Z",
     "start_time": "2025-09-23T16:47:05.312102Z"
    }
   },
   "cell_type": "code",
   "source": "df.head()",
   "id": "e15741dc1f33f78",
   "outputs": [
    {
     "data": {
      "text/plain": [
       "                                              hidden  layer model   target\n",
       "0  [-0.12794064, -0.059372697, 0.18820193, 0.0022...      0  gpt2  grammar\n",
       "1  [-1.4979281, -0.73049, 2.0241673, -0.44325504,...      1  gpt2  grammar\n",
       "2  [-1.0598001, -0.9965287, 1.6222678, -1.2315387...      2  gpt2  grammar\n",
       "3  [-0.9300831, -0.7853385, 1.3130838, -1.1275953...      3  gpt2  grammar\n",
       "4  [-1.4587929, -0.517331, 1.4352485, -0.7729259,...      4  gpt2  grammar"
      ],
      "text/html": [
       "<div>\n",
       "<style scoped>\n",
       "    .dataframe tbody tr th:only-of-type {\n",
       "        vertical-align: middle;\n",
       "    }\n",
       "\n",
       "    .dataframe tbody tr th {\n",
       "        vertical-align: top;\n",
       "    }\n",
       "\n",
       "    .dataframe thead th {\n",
       "        text-align: right;\n",
       "    }\n",
       "</style>\n",
       "<table border=\"1\" class=\"dataframe\">\n",
       "  <thead>\n",
       "    <tr style=\"text-align: right;\">\n",
       "      <th></th>\n",
       "      <th>hidden</th>\n",
       "      <th>layer</th>\n",
       "      <th>model</th>\n",
       "      <th>target</th>\n",
       "    </tr>\n",
       "  </thead>\n",
       "  <tbody>\n",
       "    <tr>\n",
       "      <th>0</th>\n",
       "      <td>[-0.12794064, -0.059372697, 0.18820193, 0.0022...</td>\n",
       "      <td>0</td>\n",
       "      <td>gpt2</td>\n",
       "      <td>grammar</td>\n",
       "    </tr>\n",
       "    <tr>\n",
       "      <th>1</th>\n",
       "      <td>[-1.4979281, -0.73049, 2.0241673, -0.44325504,...</td>\n",
       "      <td>1</td>\n",
       "      <td>gpt2</td>\n",
       "      <td>grammar</td>\n",
       "    </tr>\n",
       "    <tr>\n",
       "      <th>2</th>\n",
       "      <td>[-1.0598001, -0.9965287, 1.6222678, -1.2315387...</td>\n",
       "      <td>2</td>\n",
       "      <td>gpt2</td>\n",
       "      <td>grammar</td>\n",
       "    </tr>\n",
       "    <tr>\n",
       "      <th>3</th>\n",
       "      <td>[-0.9300831, -0.7853385, 1.3130838, -1.1275953...</td>\n",
       "      <td>3</td>\n",
       "      <td>gpt2</td>\n",
       "      <td>grammar</td>\n",
       "    </tr>\n",
       "    <tr>\n",
       "      <th>4</th>\n",
       "      <td>[-1.4587929, -0.517331, 1.4352485, -0.7729259,...</td>\n",
       "      <td>4</td>\n",
       "      <td>gpt2</td>\n",
       "      <td>grammar</td>\n",
       "    </tr>\n",
       "  </tbody>\n",
       "</table>\n",
       "</div>"
      ]
     },
     "execution_count": 35,
     "metadata": {},
     "output_type": "execute_result"
    }
   ],
   "execution_count": 35
  },
  {
   "metadata": {
    "ExecuteTime": {
     "end_time": "2025-09-23T16:49:26.861062Z",
     "start_time": "2025-09-23T16:49:26.613029Z"
    }
   },
   "cell_type": "code",
   "source": "probing_dataset = pd.concat([df[\"hidden\"].apply(pd.Series).add_prefix(\"h_\"), df.drop(\"hidden\", axis=1)], axis=1)",
   "id": "dcd2fa0beadfe4b9",
   "outputs": [],
   "execution_count": 41
  },
  {
   "metadata": {
    "ExecuteTime": {
     "end_time": "2025-09-23T16:50:27.936149Z",
     "start_time": "2025-09-23T16:50:25.724688Z"
    }
   },
   "cell_type": "code",
   "source": "probing_dataset.to_csv(\"../datasets/probing_dataset_gpt2.csv\", index=False)",
   "id": "9dca5200d8caeb87",
   "outputs": [],
   "execution_count": 43
  },
  {
   "metadata": {},
   "cell_type": "code",
   "outputs": [],
   "execution_count": null,
   "source": "",
   "id": "7e1d8c19fdab44bf"
  }
 ],
 "metadata": {
  "kernelspec": {
   "display_name": "Python 3",
   "language": "python",
   "name": "python3"
  },
  "language_info": {
   "codemirror_mode": {
    "name": "ipython",
    "version": 2
   },
   "file_extension": ".py",
   "mimetype": "text/x-python",
   "name": "python",
   "nbconvert_exporter": "python",
   "pygments_lexer": "ipython2",
   "version": "2.7.6"
  }
 },
 "nbformat": 4,
 "nbformat_minor": 5
}
