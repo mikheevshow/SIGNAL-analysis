{
 "cells": [
  {
   "metadata": {
    "ExecuteTime": {
     "end_time": "2025-09-23T17:25:48.203702Z",
     "start_time": "2025-09-23T17:25:48.201431Z"
    }
   },
   "cell_type": "code",
   "source": [
    "import os\n",
    "import sys\n",
    "\n",
    "sys.path.append(os.path.join(os.path.dirname(os.getcwd()), 'src'))"
   ],
   "id": "401eb7b25403fc5c",
   "outputs": [],
   "execution_count": 1
  },
  {
   "cell_type": "code",
   "id": "initial_id",
   "metadata": {
    "collapsed": true,
    "ExecuteTime": {
     "end_time": "2025-09-23T17:26:06.687838Z",
     "start_time": "2025-09-23T17:26:05.704062Z"
    }
   },
   "source": [
    "from tqdm import tqdm\n",
    "from datasets import load_dataset\n",
    "from src.decoder_utils import calculate_aggregated_hidden_states\n",
    "\n",
    "%matplotlib inline\n",
    "%config InlineBackend.figure_format='retina'"
   ],
   "outputs": [
    {
     "name": "stderr",
     "output_type": "stream",
     "text": [
      "2025-09-23 20:26:06 DEBUG    matplotlib: matplotlib data path: /opt/miniconda3/envs/SIGNAL-analysis/lib/python3.12/site-packages/matplotlib/mpl-data\n",
      "2025-09-23 20:26:06 DEBUG    matplotlib: CONFIGDIR=/Users/ilyamikheev/.matplotlib\n",
      "2025-09-23 20:26:06 DEBUG    matplotlib: interactive is False\n",
      "2025-09-23 20:26:06 DEBUG    matplotlib: platform is darwin\n",
      "2025-09-23 20:26:06 DEBUG    matplotlib: CACHEDIR=/Users/ilyamikheev/.matplotlib\n",
      "2025-09-23 20:26:06 DEBUG    matplotlib.font_manager: Using fontManager instance from /Users/ilyamikheev/.matplotlib/fontlist-v390.json\n",
      "2025-09-23 20:26:06 DEBUG    matplotlib.pyplot: Loaded backend module://matplotlib_inline.backend_inline version unknown.\n",
      "2025-09-23 20:26:06 DEBUG    matplotlib.pyplot: Loaded backend inline version unknown.\n"
     ]
    }
   ],
   "execution_count": 2
  },
  {
   "metadata": {},
   "cell_type": "markdown",
   "source": "### Dataset loading",
   "id": "ffb8a6343bee1b34"
  },
  {
   "metadata": {
    "ExecuteTime": {
     "end_time": "2025-09-23T17:26:12.623901Z",
     "start_time": "2025-09-23T17:26:09.849835Z"
    }
   },
   "cell_type": "code",
   "source": "ds = load_dataset(\"ContributorsSIGNAL/SIGNAL\")",
   "id": "2e3ddbd025643527",
   "outputs": [
    {
     "name": "stderr",
     "output_type": "stream",
     "text": [
      "2025-09-23 20:26:09 DEBUG    urllib3.connectionpool: Starting new HTTPS connection (1): huggingface.co:443\n",
      "2025-09-23 20:26:10 DEBUG    urllib3.connectionpool: https://huggingface.co:443 \"HEAD /datasets/ContributorsSIGNAL/SIGNAL/resolve/main/README.md HTTP/1.1\" 307 0\n",
      "2025-09-23 20:26:10 DEBUG    urllib3.connectionpool: https://huggingface.co:443 \"HEAD /api/resolve-cache/datasets/ContributorsSIGNAL/SIGNAL/a21068568606a9b51a27e23ea3edbc78b5b6478c/README.md HTTP/1.1\" 200 0\n",
      "2025-09-23 20:26:10 DEBUG    urllib3.connectionpool: https://huggingface.co:443 \"HEAD /datasets/ContributorsSIGNAL/SIGNAL/resolve/a21068568606a9b51a27e23ea3edbc78b5b6478c/SIGNAL.py HTTP/1.1\" 404 0\n",
      "2025-09-23 20:26:10 DEBUG    urllib3.connectionpool: Starting new HTTPS connection (1): s3.amazonaws.com:443\n",
      "2025-09-23 20:26:10 DEBUG    urllib3.connectionpool: https://s3.amazonaws.com:443 \"HEAD /datasets.huggingface.co/datasets/datasets/ContributorsSIGNAL/SIGNAL/ContributorsSIGNAL/SIGNAL.py HTTP/1.1\" 404 0\n",
      "2025-09-23 20:26:11 DEBUG    urllib3.connectionpool: https://huggingface.co:443 \"GET /api/datasets/ContributorsSIGNAL/SIGNAL/revision/a21068568606a9b51a27e23ea3edbc78b5b6478c HTTP/1.1\" 200 3974\n",
      "2025-09-23 20:26:11 DEBUG    urllib3.connectionpool: https://huggingface.co:443 \"HEAD /datasets/ContributorsSIGNAL/SIGNAL/resolve/a21068568606a9b51a27e23ea3edbc78b5b6478c/.huggingface.yaml HTTP/1.1\" 404 0\n",
      "2025-09-23 20:26:11 DEBUG    urllib3.connectionpool: Starting new HTTPS connection (1): datasets-server.huggingface.co:443\n",
      "2025-09-23 20:26:11 DEBUG    urllib3.connectionpool: https://datasets-server.huggingface.co:443 \"GET /info?dataset=ContributorsSIGNAL/SIGNAL HTTP/1.1\" 200 None\n",
      "2025-09-23 20:26:11 DEBUG    urllib3.connectionpool: https://huggingface.co:443 \"GET /api/datasets/ContributorsSIGNAL/SIGNAL/revision/a21068568606a9b51a27e23ea3edbc78b5b6478c HTTP/1.1\" 200 3974\n",
      "2025-09-23 20:26:12 DEBUG    urllib3.connectionpool: https://huggingface.co:443 \"GET /api/datasets/ContributorsSIGNAL/SIGNAL/tree/a21068568606a9b51a27e23ea3edbc78b5b6478c?recursive=False&expand=False HTTP/1.1\" 200 1124\n",
      "2025-09-23 20:26:12 DEBUG    urllib3.connectionpool: Starting new HTTPS connection (1): huggingface.co:443\n",
      "2025-09-23 20:26:12 DEBUG    urllib3.connectionpool: https://huggingface.co:443 \"GET /api/datasets/ContributorsSIGNAL/SIGNAL/revision/a21068568606a9b51a27e23ea3edbc78b5b6478c HTTP/1.1\" 200 3974\n",
      "2025-09-23 20:26:12 DEBUG    urllib3.connectionpool: https://huggingface.co:443 \"HEAD /datasets/ContributorsSIGNAL/SIGNAL/resolve/a21068568606a9b51a27e23ea3edbc78b5b6478c/dataset_infos.json HTTP/1.1\" 404 0\n",
      "2025-09-23 20:26:12 DEBUG    filelock: Attempting to acquire lock 4462419728 on /Users/ilyamikheev/.cache/huggingface/datasets/_Users_ilyamikheev_.cache_huggingface_datasets_ContributorsSIGNAL___signal_SIGNAL_0.0.0_a21068568606a9b51a27e23ea3edbc78b5b6478c.lock\n",
      "2025-09-23 20:26:12 DEBUG    filelock: Lock 4462419728 acquired on /Users/ilyamikheev/.cache/huggingface/datasets/_Users_ilyamikheev_.cache_huggingface_datasets_ContributorsSIGNAL___signal_SIGNAL_0.0.0_a21068568606a9b51a27e23ea3edbc78b5b6478c.lock\n",
      "2025-09-23 20:26:12 DEBUG    fsspec.local: open file: /Users/ilyamikheev/.cache/huggingface/datasets/ContributorsSIGNAL___signal/SIGNAL/0.0.0/a21068568606a9b51a27e23ea3edbc78b5b6478c/dataset_info.json\n",
      "2025-09-23 20:26:12 DEBUG    filelock: Attempting to release lock 4462419728 on /Users/ilyamikheev/.cache/huggingface/datasets/_Users_ilyamikheev_.cache_huggingface_datasets_ContributorsSIGNAL___signal_SIGNAL_0.0.0_a21068568606a9b51a27e23ea3edbc78b5b6478c.lock\n",
      "2025-09-23 20:26:12 DEBUG    filelock: Lock 4462419728 released on /Users/ilyamikheev/.cache/huggingface/datasets/_Users_ilyamikheev_.cache_huggingface_datasets_ContributorsSIGNAL___signal_SIGNAL_0.0.0_a21068568606a9b51a27e23ea3edbc78b5b6478c.lock\n",
      "2025-09-23 20:26:12 DEBUG    filelock: Attempting to acquire lock 13091276512 on /Users/ilyamikheev/.cache/huggingface/datasets/ContributorsSIGNAL___signal/SIGNAL/0.0.0/a21068568606a9b51a27e23ea3edbc78b5b6478c_builder.lock\n",
      "2025-09-23 20:26:12 DEBUG    filelock: Lock 13091276512 acquired on /Users/ilyamikheev/.cache/huggingface/datasets/ContributorsSIGNAL___signal/SIGNAL/0.0.0/a21068568606a9b51a27e23ea3edbc78b5b6478c_builder.lock\n",
      "2025-09-23 20:26:12 DEBUG    fsspec.local: open file: /Users/ilyamikheev/.cache/huggingface/datasets/ContributorsSIGNAL___signal/SIGNAL/0.0.0/a21068568606a9b51a27e23ea3edbc78b5b6478c/dataset_info.json\n",
      "2025-09-23 20:26:12 DEBUG    filelock: Attempting to release lock 13091276512 on /Users/ilyamikheev/.cache/huggingface/datasets/ContributorsSIGNAL___signal/SIGNAL/0.0.0/a21068568606a9b51a27e23ea3edbc78b5b6478c_builder.lock\n",
      "2025-09-23 20:26:12 DEBUG    filelock: Lock 13091276512 released on /Users/ilyamikheev/.cache/huggingface/datasets/ContributorsSIGNAL___signal/SIGNAL/0.0.0/a21068568606a9b51a27e23ea3edbc78b5b6478c_builder.lock\n"
     ]
    }
   ],
   "execution_count": 3
  },
  {
   "metadata": {
    "ExecuteTime": {
     "end_time": "2025-09-23T17:26:13.539074Z",
     "start_time": "2025-09-23T17:26:13.533420Z"
    }
   },
   "cell_type": "code",
   "source": "df = ds[\"train\"].to_pandas()",
   "id": "b0aa20bf1bc3afee",
   "outputs": [],
   "execution_count": 4
  },
  {
   "metadata": {
    "ExecuteTime": {
     "end_time": "2025-09-23T17:26:14.471015Z",
     "start_time": "2025-09-23T17:26:14.468476Z"
    }
   },
   "cell_type": "code",
   "source": [
    "congruent_sentences = (df[\"congruent\"].tolist())\n",
    "congruent_sentences_unique = (df[\"congruent\"].unique().tolist())\n",
    "incongruent_sentences = (df[\"sentence\"].tolist())"
   ],
   "id": "85ca55feb6f14897",
   "outputs": [],
   "execution_count": 5
  },
  {
   "metadata": {
    "ExecuteTime": {
     "end_time": "2025-09-23T17:26:16.219813Z",
     "start_time": "2025-09-23T17:26:16.216101Z"
    }
   },
   "cell_type": "code",
   "source": "len(congruent_sentences), len(incongruent_sentences)",
   "id": "1f8eefcb927c085c",
   "outputs": [
    {
     "data": {
      "text/plain": [
       "(600, 600)"
      ]
     },
     "execution_count": 6,
     "metadata": {},
     "output_type": "execute_result"
    }
   ],
   "execution_count": 6
  },
  {
   "metadata": {
    "ExecuteTime": {
     "end_time": "2025-09-23T17:26:16.732638Z",
     "start_time": "2025-09-23T17:26:16.730126Z"
    }
   },
   "cell_type": "code",
   "source": [
    "model_names = [\n",
    "    \"openai-community/gpt2\"\n",
    "]"
   ],
   "id": "4fcb68eebef537d7",
   "outputs": [],
   "execution_count": 7
  },
  {
   "metadata": {
    "ExecuteTime": {
     "end_time": "2025-09-23T17:26:21.594235Z",
     "start_time": "2025-09-23T17:26:17.677322Z"
    }
   },
   "cell_type": "code",
   "source": [
    "model_outputs = dict()\n",
    "\n",
    "for model_name in tqdm(model_names, desc=\"Infer incongruent sentences\"):\n",
    "    model_outputs[model_name] = calculate_aggregated_hidden_states(\n",
    "        congruent_sentences=congruent_sentences,\n",
    "        incongruent_sentences=incongruent_sentences,\n",
    "        model_name=model_name,\n",
    "        device=\"mps\",\n",
    "    )"
   ],
   "id": "9e243bbc5a9e651a",
   "outputs": [
    {
     "name": "stderr",
     "output_type": "stream",
     "text": [
      "Infer incongruent sentences:   0%|          | 0/1 [00:00<?, ?it/s]IOPub data rate exceeded.\n",
      "The Jupyter server will temporarily stop sending output\n",
      "to the client in order to avoid crashing it.\n",
      "To change this limit, set the config variable\n",
      "`--ServerApp.iopub_data_rate_limit`.\n",
      "\n",
      "Current values:\n",
      "ServerApp.iopub_data_rate_limit=1000000.0 (bytes/sec)\n",
      "ServerApp.rate_limit_window=3.0 (secs)\n",
      "\n",
      "2025-09-23 20:26:18 DEBUG    urllib3.connectionpool: https://huggingface.co:443 \"HEAD /openai-community/gpt2/resolve/main/tokenizer_config.json HTTP/1.1\" 307 0\n",
      "2025-09-23 20:26:18 DEBUG    urllib3.connectionpool: https://huggingface.co:443 \"HEAD /api/resolve-cache/models/openai-community/gpt2/607a30d783dfa663caf39e06633721c8d4cfcd7e/tokenizer_config.json HTTP/1.1\" 200 0\n",
      "/opt/miniconda3/envs/SIGNAL-analysis/lib/python3.12/site-packages/transformers/tokenization_utils_base.py:1601: FutureWarning: `clean_up_tokenization_spaces` was not set. It will be set to `True` by default. This behavior will be depracted in transformers v4.45, and will be then set to `False` by default. For more details check this issue: https://github.com/huggingface/transformers/issues/31884\n",
      "  warnings.warn(\n",
      "2025-09-23 20:26:18 INFO     tokenizer_utils: Tokenizer adds prefix space\n",
      "2025-09-23 20:26:18 DEBUG    urllib3.connectionpool: https://huggingface.co:443 \"HEAD /openai-community/gpt2/resolve/main/config.json HTTP/1.1\" 307 0\n",
      "2025-09-23 20:26:18 DEBUG    urllib3.connectionpool: https://huggingface.co:443 \"HEAD /api/resolve-cache/models/openai-community/gpt2/607a30d783dfa663caf39e06633721c8d4cfcd7e/config.json HTTP/1.1\" 200 0\n",
      "2025-09-23 20:26:18 DEBUG    urllib3.connectionpool: https://huggingface.co:443 \"HEAD /openai-community/gpt2/resolve/main/generation_config.json HTTP/1.1\" 307 0\n",
      "2025-09-23 20:26:18 DEBUG    urllib3.connectionpool: https://huggingface.co:443 \"HEAD /api/resolve-cache/models/openai-community/gpt2/607a30d783dfa663caf39e06633721c8d4cfcd7e/generation_config.json HTTP/1.1\" 200 0\n",
      "Infer incongruent sentences: 100%|██████████| 1/1 [00:03<00:00,  3.91s/it]\n"
     ]
    }
   ],
   "execution_count": 8
  },
  {
   "metadata": {
    "ExecuteTime": {
     "end_time": "2025-09-23T17:26:23.579243Z",
     "start_time": "2025-09-23T17:26:23.576822Z"
    }
   },
   "cell_type": "code",
   "source": [
    "hidden_states_folder = \"../persisted_hidden_states\"\n",
    "os.makedirs(hidden_states_folder, exist_ok=True)"
   ],
   "id": "bba1d6bf1d16b295",
   "outputs": [],
   "execution_count": 9
  },
  {
   "metadata": {
    "ExecuteTime": {
     "end_time": "2025-09-23T17:26:24.839154Z",
     "start_time": "2025-09-23T17:26:24.740784Z"
    }
   },
   "cell_type": "code",
   "source": [
    "import numpy as np\n",
    "\n",
    "for model_name, states in model_outputs.items():\n",
    "    save_dir = hidden_states_folder + \"/\" + model_name.replace(\"/\", \"-\")\n",
    "    os.makedirs(save_dir, exist_ok=True)\n",
    "    for i, sentence_result_dict in enumerate(states):\n",
    "        aggregated_word_embedding_by_layer = sentence_result_dict[\"aggregated_word_embedding_by_layer\"]\n",
    "        np.save(save_dir + \"/\" + str(i) + \".npy\", aggregated_word_embedding_by_layer.numpy())"
   ],
   "id": "30c672aaabfc74b6",
   "outputs": [],
   "execution_count": 10
  },
  {
   "metadata": {
    "ExecuteTime": {
     "end_time": "2025-09-23T17:26:25.841615Z",
     "start_time": "2025-09-23T17:26:25.837866Z"
    }
   },
   "cell_type": "code",
   "source": "model_outputs['openai-community/gpt2'][0].keys()",
   "id": "23c32db000ba33e9",
   "outputs": [
    {
     "data": {
      "text/plain": [
       "dict_keys(['text', 'hidden_states', 'offset_mapping', 'incongruent_word_start_end_indices', 'aggregated_word_embedding_by_layer'])"
      ]
     },
     "execution_count": 11,
     "metadata": {},
     "output_type": "execute_result"
    }
   ],
   "execution_count": 11
  },
  {
   "metadata": {},
   "cell_type": "code",
   "outputs": [],
   "execution_count": null,
   "source": "",
   "id": "8ee936cf11f4a6e6"
  }
 ],
 "metadata": {
  "kernelspec": {
   "display_name": "Python 3",
   "language": "python",
   "name": "python3"
  },
  "language_info": {
   "codemirror_mode": {
    "name": "ipython",
    "version": 2
   },
   "file_extension": ".py",
   "mimetype": "text/x-python",
   "name": "python",
   "nbconvert_exporter": "python",
   "pygments_lexer": "ipython2",
   "version": "2.7.6"
  }
 },
 "nbformat": 4,
 "nbformat_minor": 5
}
