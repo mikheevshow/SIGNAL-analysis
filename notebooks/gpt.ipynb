{
 "cells": [
  {
   "metadata": {
    "ExecuteTime": {
     "end_time": "2025-09-23T16:05:31.277069Z",
     "start_time": "2025-09-23T16:05:31.274514Z"
    }
   },
   "cell_type": "code",
   "source": [
    "import os\n",
    "import sys\n",
    "\n",
    "sys.path.append(os.path.join(os.path.dirname(os.getcwd()), 'src'))"
   ],
   "id": "401eb7b25403fc5c",
   "outputs": [],
   "execution_count": 1
  },
  {
   "cell_type": "code",
   "id": "initial_id",
   "metadata": {
    "collapsed": true,
    "ExecuteTime": {
     "end_time": "2025-09-23T16:06:21.704388Z",
     "start_time": "2025-09-23T16:06:21.698093Z"
    }
   },
   "source": [
    "from tqdm import tqdm\n",
    "from datasets import load_dataset\n",
    "from src.decoder_utils import calculate_aggregated_hidden_states\n",
    "\n",
    "%matplotlib inline\n",
    "%config InlineBackend.figure_format='retina'"
   ],
   "outputs": [
    {
     "name": "stderr",
     "output_type": "stream",
     "text": [
      "2025-09-23 19:06:21 DEBUG    matplotlib.pyplot: Loaded backend inline version unknown.\n"
     ]
    }
   ],
   "execution_count": 5
  },
  {
   "metadata": {},
   "cell_type": "markdown",
   "source": "### Dataset loading",
   "id": "ffb8a6343bee1b34"
  },
  {
   "metadata": {
    "ExecuteTime": {
     "end_time": "2025-09-23T16:06:24.587587Z",
     "start_time": "2025-09-23T16:06:22.474690Z"
    }
   },
   "cell_type": "code",
   "source": "ds = load_dataset(\"ContributorsSIGNAL/SIGNAL\")",
   "id": "2e3ddbd025643527",
   "outputs": [
    {
     "name": "stderr",
     "output_type": "stream",
     "text": [
      "2025-09-23 19:06:22 DEBUG    urllib3.connectionpool: https://huggingface.co:443 \"HEAD /datasets/ContributorsSIGNAL/SIGNAL/resolve/main/README.md HTTP/1.1\" 307 0\n",
      "2025-09-23 19:06:23 DEBUG    urllib3.connectionpool: https://huggingface.co:443 \"HEAD /api/resolve-cache/datasets/ContributorsSIGNAL/SIGNAL/a21068568606a9b51a27e23ea3edbc78b5b6478c/README.md HTTP/1.1\" 200 0\n",
      "2025-09-23 19:06:23 DEBUG    urllib3.connectionpool: https://huggingface.co:443 \"HEAD /datasets/ContributorsSIGNAL/SIGNAL/resolve/a21068568606a9b51a27e23ea3edbc78b5b6478c/SIGNAL.py HTTP/1.1\" 404 0\n",
      "2025-09-23 19:06:23 DEBUG    urllib3.connectionpool: Resetting dropped connection: s3.amazonaws.com\n",
      "2025-09-23 19:06:23 DEBUG    urllib3.connectionpool: https://s3.amazonaws.com:443 \"HEAD /datasets.huggingface.co/datasets/datasets/ContributorsSIGNAL/SIGNAL/ContributorsSIGNAL/SIGNAL.py HTTP/1.1\" 404 0\n",
      "2025-09-23 19:06:23 DEBUG    urllib3.connectionpool: https://huggingface.co:443 \"HEAD /datasets/ContributorsSIGNAL/SIGNAL/resolve/a21068568606a9b51a27e23ea3edbc78b5b6478c/.huggingface.yaml HTTP/1.1\" 404 0\n",
      "2025-09-23 19:06:24 DEBUG    urllib3.connectionpool: https://datasets-server.huggingface.co:443 \"GET /info?dataset=ContributorsSIGNAL/SIGNAL HTTP/1.1\" 200 None\n",
      "2025-09-23 19:06:24 DEBUG    urllib3.connectionpool: Starting new HTTPS connection (1): huggingface.co:443\n",
      "2025-09-23 19:06:24 DEBUG    urllib3.connectionpool: https://huggingface.co:443 \"GET /api/datasets/ContributorsSIGNAL/SIGNAL/revision/a21068568606a9b51a27e23ea3edbc78b5b6478c HTTP/1.1\" 200 3974\n",
      "2025-09-23 19:06:24 DEBUG    urllib3.connectionpool: https://huggingface.co:443 \"HEAD /datasets/ContributorsSIGNAL/SIGNAL/resolve/a21068568606a9b51a27e23ea3edbc78b5b6478c/dataset_infos.json HTTP/1.1\" 404 0\n",
      "2025-09-23 19:06:24 DEBUG    filelock: Attempting to acquire lock 6405143248 on /Users/ilyamikheev/.cache/huggingface/datasets/_Users_ilyamikheev_.cache_huggingface_datasets_ContributorsSIGNAL___signal_SIGNAL_0.0.0_a21068568606a9b51a27e23ea3edbc78b5b6478c.lock\n",
      "2025-09-23 19:06:24 DEBUG    filelock: Lock 6405143248 acquired on /Users/ilyamikheev/.cache/huggingface/datasets/_Users_ilyamikheev_.cache_huggingface_datasets_ContributorsSIGNAL___signal_SIGNAL_0.0.0_a21068568606a9b51a27e23ea3edbc78b5b6478c.lock\n",
      "2025-09-23 19:06:24 DEBUG    fsspec.local: open file: /Users/ilyamikheev/.cache/huggingface/datasets/ContributorsSIGNAL___signal/SIGNAL/0.0.0/a21068568606a9b51a27e23ea3edbc78b5b6478c/dataset_info.json\n",
      "2025-09-23 19:06:24 DEBUG    filelock: Attempting to release lock 6405143248 on /Users/ilyamikheev/.cache/huggingface/datasets/_Users_ilyamikheev_.cache_huggingface_datasets_ContributorsSIGNAL___signal_SIGNAL_0.0.0_a21068568606a9b51a27e23ea3edbc78b5b6478c.lock\n",
      "2025-09-23 19:06:24 DEBUG    filelock: Lock 6405143248 released on /Users/ilyamikheev/.cache/huggingface/datasets/_Users_ilyamikheev_.cache_huggingface_datasets_ContributorsSIGNAL___signal_SIGNAL_0.0.0_a21068568606a9b51a27e23ea3edbc78b5b6478c.lock\n",
      "2025-09-23 19:06:24 DEBUG    filelock: Attempting to acquire lock 6359430400 on /Users/ilyamikheev/.cache/huggingface/datasets/ContributorsSIGNAL___signal/SIGNAL/0.0.0/a21068568606a9b51a27e23ea3edbc78b5b6478c_builder.lock\n",
      "2025-09-23 19:06:24 DEBUG    filelock: Lock 6359430400 acquired on /Users/ilyamikheev/.cache/huggingface/datasets/ContributorsSIGNAL___signal/SIGNAL/0.0.0/a21068568606a9b51a27e23ea3edbc78b5b6478c_builder.lock\n",
      "2025-09-23 19:06:24 DEBUG    fsspec.local: open file: /Users/ilyamikheev/.cache/huggingface/datasets/ContributorsSIGNAL___signal/SIGNAL/0.0.0/a21068568606a9b51a27e23ea3edbc78b5b6478c/dataset_info.json\n",
      "2025-09-23 19:06:24 DEBUG    filelock: Attempting to release lock 6359430400 on /Users/ilyamikheev/.cache/huggingface/datasets/ContributorsSIGNAL___signal/SIGNAL/0.0.0/a21068568606a9b51a27e23ea3edbc78b5b6478c_builder.lock\n",
      "2025-09-23 19:06:24 DEBUG    filelock: Lock 6359430400 released on /Users/ilyamikheev/.cache/huggingface/datasets/ContributorsSIGNAL___signal/SIGNAL/0.0.0/a21068568606a9b51a27e23ea3edbc78b5b6478c_builder.lock\n"
     ]
    }
   ],
   "execution_count": 6
  },
  {
   "metadata": {
    "ExecuteTime": {
     "end_time": "2025-09-23T16:06:24.608413Z",
     "start_time": "2025-09-23T16:06:24.605666Z"
    }
   },
   "cell_type": "code",
   "source": "df = ds[\"train\"].to_pandas()",
   "id": "b0aa20bf1bc3afee",
   "outputs": [],
   "execution_count": 7
  },
  {
   "metadata": {
    "ExecuteTime": {
     "end_time": "2025-09-23T16:06:24.613886Z",
     "start_time": "2025-09-23T16:06:24.611679Z"
    }
   },
   "cell_type": "code",
   "source": [
    "congruent_sentences = (df[\"congruent\"].tolist())\n",
    "congruent_sentences_unique = (df[\"congruent\"].unique().tolist())\n",
    "incongruent_sentences = (df[\"sentence\"].tolist())"
   ],
   "id": "85ca55feb6f14897",
   "outputs": [],
   "execution_count": 8
  },
  {
   "metadata": {
    "ExecuteTime": {
     "end_time": "2025-09-23T16:06:25.162545Z",
     "start_time": "2025-09-23T16:06:25.158395Z"
    }
   },
   "cell_type": "code",
   "source": "len(congruent_sentences), len(incongruent_sentences)",
   "id": "1f8eefcb927c085c",
   "outputs": [
    {
     "data": {
      "text/plain": [
       "(600, 600)"
      ]
     },
     "execution_count": 9,
     "metadata": {},
     "output_type": "execute_result"
    }
   ],
   "execution_count": 9
  },
  {
   "metadata": {
    "ExecuteTime": {
     "end_time": "2025-09-23T16:06:25.596343Z",
     "start_time": "2025-09-23T16:06:25.594062Z"
    }
   },
   "cell_type": "code",
   "source": [
    "model_names = [\n",
    "    \"openai-community/gpt2\"\n",
    "]"
   ],
   "id": "4fcb68eebef537d7",
   "outputs": [],
   "execution_count": 10
  },
  {
   "metadata": {
    "ExecuteTime": {
     "end_time": "2025-09-23T16:06:37.333679Z",
     "start_time": "2025-09-23T16:06:31.154532Z"
    }
   },
   "cell_type": "code",
   "source": [
    "model_outputs = dict()\n",
    "\n",
    "for model_name in tqdm(model_names, desc=\"Infer incongruent sentences\"):\n",
    "    model_outputs[model_name] = calculate_aggregated_hidden_states(\n",
    "        congruent_sentences=congruent_sentences,\n",
    "        incongruent_sentences=incongruent_sentences,\n",
    "        model_name=model_name,\n",
    "        device=\"mps\",\n",
    "    )"
   ],
   "id": "9e243bbc5a9e651a",
   "outputs": [
    {
     "name": "stderr",
     "output_type": "stream",
     "text": [
      "Infer incongruent sentences:   0%|          | 0/1 [00:00<?, ?it/s]IOPub data rate exceeded.\n",
      "The Jupyter server will temporarily stop sending output\n",
      "to the client in order to avoid crashing it.\n",
      "To change this limit, set the config variable\n",
      "`--ServerApp.iopub_data_rate_limit`.\n",
      "\n",
      "Current values:\n",
      "ServerApp.iopub_data_rate_limit=1000000.0 (bytes/sec)\n",
      "ServerApp.rate_limit_window=3.0 (secs)\n",
      "\n",
      "2025-09-23 19:06:31 DEBUG    urllib3.connectionpool: https://huggingface.co:443 \"HEAD /openai-community/gpt2/resolve/main/tokenizer_config.json HTTP/1.1\" 307 0\n",
      "2025-09-23 19:06:31 DEBUG    urllib3.connectionpool: https://huggingface.co:443 \"HEAD /api/resolve-cache/models/openai-community/gpt2/607a30d783dfa663caf39e06633721c8d4cfcd7e/tokenizer_config.json HTTP/1.1\" 200 0\n",
      "/opt/miniconda3/envs/SIGNAL-analysis/lib/python3.12/site-packages/transformers/tokenization_utils_base.py:1601: FutureWarning: `clean_up_tokenization_spaces` was not set. It will be set to `True` by default. This behavior will be depracted in transformers v4.45, and will be then set to `False` by default. For more details check this issue: https://github.com/huggingface/transformers/issues/31884\n",
      "  warnings.warn(\n",
      "2025-09-23 19:06:31 INFO     tokenizer_utils: Tokenizer adds prefix space\n",
      "2025-09-23 19:06:31 DEBUG    urllib3.connectionpool: https://huggingface.co:443 \"HEAD /openai-community/gpt2/resolve/main/config.json HTTP/1.1\" 307 0\n",
      "2025-09-23 19:06:32 DEBUG    urllib3.connectionpool: https://huggingface.co:443 \"HEAD /api/resolve-cache/models/openai-community/gpt2/607a30d783dfa663caf39e06633721c8d4cfcd7e/config.json HTTP/1.1\" 200 0\n",
      "2025-09-23 19:06:32 DEBUG    urllib3.connectionpool: https://huggingface.co:443 \"HEAD /openai-community/gpt2/resolve/main/generation_config.json HTTP/1.1\" 307 0\n",
      "2025-09-23 19:06:32 DEBUG    urllib3.connectionpool: https://huggingface.co:443 \"HEAD /api/resolve-cache/models/openai-community/gpt2/607a30d783dfa663caf39e06633721c8d4cfcd7e/generation_config.json HTTP/1.1\" 200 0\n",
      "Infer incongruent sentences: 100%|██████████| 1/1 [00:06<00:00,  6.17s/it]\n"
     ]
    }
   ],
   "execution_count": 11
  },
  {
   "metadata": {
    "ExecuteTime": {
     "end_time": "2025-09-23T16:09:29.405979Z",
     "start_time": "2025-09-23T16:09:29.262997Z"
    }
   },
   "cell_type": "code",
   "source": [
    "hidden_states_folder = \"../persisted_hidden_states\"\n",
    "os.makedirs(hidden_states_folder, exist_ok=False)"
   ],
   "id": "bba1d6bf1d16b295",
   "outputs": [
    {
     "ename": "FileExistsError",
     "evalue": "[Errno 17] File exists: '../persisted_hidden_states'",
     "output_type": "error",
     "traceback": [
      "\u001B[31m---------------------------------------------------------------------------\u001B[39m",
      "\u001B[31mFileExistsError\u001B[39m                           Traceback (most recent call last)",
      "\u001B[36mCell\u001B[39m\u001B[36m \u001B[39m\u001B[32mIn[17]\u001B[39m\u001B[32m, line 2\u001B[39m\n\u001B[32m      1\u001B[39m hidden_states_folder = \u001B[33m\"\u001B[39m\u001B[33m../persisted_hidden_states\u001B[39m\u001B[33m\"\u001B[39m\n\u001B[32m----> \u001B[39m\u001B[32m2\u001B[39m \u001B[43mos\u001B[49m\u001B[43m.\u001B[49m\u001B[43mmakedirs\u001B[49m\u001B[43m(\u001B[49m\u001B[43mhidden_states_folder\u001B[49m\u001B[43m,\u001B[49m\u001B[43m \u001B[49m\u001B[43mexist_ok\u001B[49m\u001B[43m=\u001B[49m\u001B[38;5;28;43;01mFalse\u001B[39;49;00m\u001B[43m)\u001B[49m\n",
      "\u001B[36mFile \u001B[39m\u001B[32m<frozen os>:225\u001B[39m, in \u001B[36mmakedirs\u001B[39m\u001B[34m(name, mode, exist_ok)\u001B[39m\n",
      "\u001B[31mFileExistsError\u001B[39m: [Errno 17] File exists: '../persisted_hidden_states'"
     ]
    }
   ],
   "execution_count": 17
  },
  {
   "metadata": {
    "ExecuteTime": {
     "end_time": "2025-09-23T16:17:05.485941Z",
     "start_time": "2025-09-23T16:17:05.383958Z"
    }
   },
   "cell_type": "code",
   "source": [
    "import numpy as np\n",
    "\n",
    "for model_name, states in model_outputs.items():\n",
    "    save_dir = hidden_states_folder + \"/\" + model_name.replace(\"/\", \"-\")\n",
    "    os.makedirs(save_dir, exist_ok=True)\n",
    "    for i, sentence_result_dict in enumerate(states):\n",
    "        aggregated_word_embedding_by_layer = sentence_result_dict[\"aggregated_word_embedding_by_layer\"]\n",
    "        np.save(save_dir + \"/\" + str(i) + \".npy\", aggregated_word_embedding_by_layer.numpy())"
   ],
   "id": "30c672aaabfc74b6",
   "outputs": [],
   "execution_count": 29
  },
  {
   "metadata": {
    "ExecuteTime": {
     "end_time": "2025-09-23T16:14:30.067279Z",
     "start_time": "2025-09-23T16:14:30.064870Z"
    }
   },
   "cell_type": "code",
   "source": "model_outputs['openai-community/gpt2'][0].keys()",
   "id": "23c32db000ba33e9",
   "outputs": [
    {
     "data": {
      "text/plain": [
       "dict_keys(['text', 'hidden_states', 'offset_mapping', 'incongruent_word_start_end_indices', 'aggregated_word_embedding_by_layer'])"
      ]
     },
     "execution_count": 25,
     "metadata": {},
     "output_type": "execute_result"
    }
   ],
   "execution_count": 25
  },
  {
   "metadata": {},
   "cell_type": "code",
   "outputs": [],
   "execution_count": null,
   "source": "",
   "id": "8ee936cf11f4a6e6"
  }
 ],
 "metadata": {
  "kernelspec": {
   "display_name": "Python 3",
   "language": "python",
   "name": "python3"
  },
  "language_info": {
   "codemirror_mode": {
    "name": "ipython",
    "version": 2
   },
   "file_extension": ".py",
   "mimetype": "text/x-python",
   "name": "python",
   "nbconvert_exporter": "python",
   "pygments_lexer": "ipython2",
   "version": "2.7.6"
  }
 },
 "nbformat": 4,
 "nbformat_minor": 5
}
